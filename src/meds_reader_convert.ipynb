{
 "cells": [
  {
   "metadata": {},
   "cell_type": "code",
   "outputs": [],
   "execution_count": null,
   "source": [
    "from os.path import exists\n",
    "\n",
    "import meds_reader\n",
    "from pathlib import Path"
   ],
   "id": "25bf5f066d18cc9f"
  },
  {
   "metadata": {},
   "cell_type": "code",
   "outputs": [],
   "execution_count": null,
   "source": [
    "path = \"/Users/robin/Documents/datasets/meds/northwestern/\"\n",
    "path_reader = \"/Users/robin/Documents/datasets/meds/northwestern/reader/train\"\n",
    "Path(path_reader).mkdir(parents=True, exist_ok=True)"
   ],
   "id": "b212d77f4a5c8492"
  },
  {
   "metadata": {},
   "cell_type": "code",
   "outputs": [],
   "execution_count": null,
   "source": "!meds_reader_convert $path $path_reader --num_threads 4",
   "id": "97c6017f261dc8ee"
  },
  {
   "metadata": {},
   "cell_type": "code",
   "outputs": [],
   "execution_count": null,
   "source": [
    "database = meds_reader.SubjectDatabase(path_reader)\n",
    "\n",
    "print(\"Data has\", len(database), \"subjects\")"
   ],
   "id": "b8692efdc65ba103"
  },
  {
   "metadata": {},
   "cell_type": "code",
   "outputs": [],
   "execution_count": null,
   "source": [
    "for property_name, property_type in database.properties.items():\n",
    "    print(\"Got property\", property_name, \"of type\", property_type)"
   ],
   "id": "e850edda5460f95c"
  },
  {
   "metadata": {},
   "cell_type": "code",
   "outputs": [],
   "execution_count": null,
   "source": [
    "subject_ids = list(database)\n",
    "example_subject_id = subject_ids[1]\n",
    "\n",
    "subject = database[example_subject_id]\n",
    "\n",
    "print(subject.subject_id)\n",
    "\n",
    "for event in subject.events[:10]:\n",
    "    print(event.time, event.code, event.numeric_value)\n",
    "    # print(event.time, event.code, event.unit, event.numeric_value, event.start)"
   ],
   "id": "9d47cd2f90cf5547"
  },
  {
   "metadata": {},
   "cell_type": "code",
   "outputs": [],
   "execution_count": null,
   "source": [
    "import collections\n",
    "\n",
    "code_counts = collections.defaultdict(int)\n",
    "\n",
    "for subject_id in database:\n",
    "    subject = database[subject_id]\n",
    "\n",
    "    for event in subject.events:\n",
    "        code_counts[event.code] += 1\n",
    "\n",
    "print(\"Total # of codes\", sum(code_counts.values()))\n",
    "\n",
    "code_and_counts = list(code_counts.items())\n",
    "code_and_counts.sort(key=lambda a: -a[1])\n",
    "\n",
    "print(\"10 most common codes\")\n",
    "for code, count in code_and_counts[:10]:\n",
    "    print(code, count)"
   ],
   "id": "7b21e7a4e152612d"
  }
 ],
 "metadata": {
  "kernelspec": {
   "display_name": "Python 3",
   "language": "python",
   "name": "python3"
  },
  "language_info": {
   "codemirror_mode": {
    "name": "ipython",
    "version": 2
   },
   "file_extension": ".py",
   "mimetype": "text/x-python",
   "name": "python",
   "nbconvert_exporter": "python",
   "pygments_lexer": "ipython2",
   "version": "2.7.6"
  }
 },
 "nbformat": 4,
 "nbformat_minor": 5
}
