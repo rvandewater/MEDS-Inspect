{
 "cells": [
  {
   "cell_type": "code",
   "id": "initial_id",
   "metadata": {
    "collapsed": true,
    "ExecuteTime": {
     "end_time": "2025-01-10T12:02:16.672680Z",
     "start_time": "2025-01-10T12:02:16.167892Z"
    }
   },
   "source": [
    "from os.path import exists\n",
    "\n",
    "import meds_reader\n",
    "from pathlib import Path"
   ],
   "outputs": [],
   "execution_count": 1
  },
  {
   "metadata": {
    "ExecuteTime": {
     "end_time": "2025-01-10T12:02:20.421578Z",
     "start_time": "2025-01-10T12:02:20.419320Z"
    }
   },
   "cell_type": "code",
   "source": [
    "path = \"/Users/robin/Documents/datasets/meds/northwestern/\"\n",
    "path_reader = \"/Users/robin/Documents/datasets/meds/northwestern/reader/train\"\n",
    "Path(path_reader).mkdir(parents=True, exist_ok=True)"
   ],
   "id": "76ae52182b47be83",
   "outputs": [],
   "execution_count": 3
  },
  {
   "metadata": {
    "ExecuteTime": {
     "end_time": "2025-01-10T10:56:17.074481Z",
     "start_time": "2025-01-10T10:54:43.721919Z"
    }
   },
   "cell_type": "code",
   "source": "!meds_reader_convert $path $path_reader --num_threads 4",
   "id": "2aebf1fc19ae5a25",
   "outputs": [],
   "execution_count": 5
  },
  {
   "metadata": {
    "ExecuteTime": {
     "end_time": "2025-01-10T12:02:36.219056Z",
     "start_time": "2025-01-10T12:02:36.215586Z"
    }
   },
   "cell_type": "code",
   "source": [
    "database = meds_reader.SubjectDatabase(path_reader)\n",
    "\n",
    "print(\"Data has\", len(database), \"subjects\")"
   ],
   "id": "f4a3e8e033f764a1",
   "outputs": [
    {
     "name": "stdout",
     "output_type": "stream",
     "text": [
      "Data has 24936 subjects\n"
     ]
    }
   ],
   "execution_count": 5
  },
  {
   "metadata": {},
   "cell_type": "code",
   "outputs": [],
   "execution_count": null,
   "source": "",
   "id": "7c640d4e96fb16f8"
  }
 ],
 "metadata": {
  "kernelspec": {
   "display_name": "Python 3",
   "language": "python",
   "name": "python3"
  },
  "language_info": {
   "codemirror_mode": {
    "name": "ipython",
    "version": 2
   },
   "file_extension": ".py",
   "mimetype": "text/x-python",
   "name": "python",
   "nbconvert_exporter": "python",
   "pygments_lexer": "ipython2",
   "version": "2.7.6"
  }
 },
 "nbformat": 4,
 "nbformat_minor": 5
}
