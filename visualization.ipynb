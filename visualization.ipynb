{
 "cells": [
  {
   "metadata": {},
   "cell_type": "code",
   "outputs": [],
   "execution_count": null,
   "source": "import polars as pl",
   "id": "dcc6f5382ce6e3ed"
  },
  {
   "metadata": {},
   "cell_type": "code",
   "outputs": [],
   "execution_count": null,
   "source": [
    "\n",
    "df = pl.scan_parquet(\"/Users/robin/Documents/datasets/meds/northwestern/data/train\")\n"
   ],
   "id": "329c335bab79684e"
  },
  {
   "metadata": {},
   "cell_type": "code",
   "outputs": [],
   "execution_count": null,
   "source": "df.collect_schema().names()",
   "id": "1db9697a88c1aed1"
  },
  {
   "metadata": {},
   "cell_type": "code",
   "outputs": [],
   "execution_count": null,
   "source": "df.head().collect()",
   "id": "abc9c6ad704d5a1e"
  }
 ],
 "metadata": {},
 "nbformat": 5,
 "nbformat_minor": 9
}
